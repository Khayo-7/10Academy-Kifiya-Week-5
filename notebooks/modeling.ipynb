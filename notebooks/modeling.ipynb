{
 "cells": [
  {
   "cell_type": "code",
   "execution_count": 1,
   "metadata": {},
   "outputs": [],
   "source": [
    "# from importib import reload\n",
    "%load_ext autoreload"
   ]
  },
  {
   "cell_type": "code",
   "execution_count": 2,
   "metadata": {},
   "outputs": [
    {
     "name": "stderr",
     "output_type": "stream",
     "text": [
      "c:\\Users\\Darkles\\10academy\\env\\Lib\\site-packages\\tqdm\\auto.py:21: TqdmWarning: IProgress not found. Please update jupyter and ipywidgets. See https://ipywidgets.readthedocs.io/en/stable/user_install.html\n",
      "  from .autonotebook import tqdm as notebook_tqdm\n",
      "c:\\Users\\Darkles\\10academy\\env\\Lib\\site-packages\\amseg-2.3-py3.12.egg\\amseg\\amharicSegmenter.py:55: SyntaxWarning: invalid escape sequence '\\s'\n",
      "c:\\Users\\Darkles\\10academy\\env\\Lib\\site-packages\\amseg-2.3-py3.12.egg\\amseg\\amharicSegmenter.py:79: SyntaxWarning: invalid escape sequence '\\s'\n",
      "c:\\Users\\Darkles\\10academy\\env\\Lib\\site-packages\\amseg-2.3-py3.12.egg\\amseg\\amharicSegmenter.py:55: SyntaxWarning: invalid escape sequence '\\s'\n",
      "c:\\Users\\Darkles\\10academy\\env\\Lib\\site-packages\\amseg-2.3-py3.12.egg\\amseg\\amharicSegmenter.py:79: SyntaxWarning: invalid escape sequence '\\s'\n",
      "c:\\Users\\Darkles\\10academy\\env\\Lib\\site-packages\\amseg-2.3-py3.12.egg\\amseg\\amharicNormalizer.py:87: SyntaxWarning: invalid escape sequence '\\s'\n",
      "c:\\Users\\Darkles\\10academy\\env\\Lib\\site-packages\\amseg-2.3-py3.12.egg\\amseg\\amharicNormalizer.py:87: SyntaxWarning: invalid escape sequence '\\s'\n"
     ]
    }
   ],
   "source": [
    "import os\n",
    "import sys\n",
    "sys.path.append('..')\n",
    "\n",
    "import torch\n",
    "import evaluate\n",
    "from datasets import load_dataset\n",
    "from peft import LoraConfig, get_peft_model, TaskType\n",
    "from transformers import AutoTokenizer, TrainingArguments, Trainer, AutoModelForTokenClassification, AutoModelForSequenceClassification\n",
    "\n",
    "from scripts.data_utils.loaders import *\n",
    "from scripts.modeling.tokenizer import *\n",
    "from scripts.modeling.training import train_ner_model\n",
    "\n",
    "#get_peft_model: A function that wraps your base model with LoRA modules.\n",
    "%autoreload 2"
   ]
  },
  {
   "cell_type": "code",
   "execution_count": null,
   "metadata": {},
   "outputs": [],
   "source": []
  },
  {
   "cell_type": "code",
   "execution_count": null,
   "metadata": {},
   "outputs": [],
   "source": [
    "\n",
    "train_ner_model(\"resources/data\", \"resources/models/checkpoints\")\n",
    "from scripts.modeling.train_ner_model import train_ner_model\n",
    "\n",
    "model_name = \"xlm-roberta-base\"  # Or \"AfroXLMR\"\n",
    "dataset_dir = \"resources/data\"\n",
    "output_dir = \"resources/models/ner_model\"\n",
    "\n",
    "train_ner_model(\n",
    "    model_name=model_name,\n",
    "    dataset_dir=dataset_dir,\n",
    "    output_dir=output_dir,\n",
    "    learning_rate=5e-5,\n",
    "    epochs=5,\n",
    "    batch_size=8,\n",
    ")\n"
   ]
  },
  {
   "cell_type": "code",
   "execution_count": null,
   "metadata": {},
   "outputs": [],
   "source": [
    "train_ner_model(data_dir)"
   ]
  },
  {
   "cell_type": "code",
   "execution_count": 18,
   "metadata": {},
   "outputs": [
    {
     "data": {
      "text/plain": [
       "['ZemenExpress',\n",
       " 'nevacomputer',\n",
       " 'meneshayeofficial',\n",
       " 'ethio_brand_collection',\n",
       " 'Leyueqa',\n",
       " 'sinayelj',\n",
       " 'Shewabrand',\n",
       " 'helloomarketethiopia',\n",
       " 'modernshoppingcenter',\n",
       " 'qnashcom',\n",
       " 'Fashiontera',\n",
       " 'kuruwear',\n",
       " 'gebeyaadama',\n",
       " 'MerttEka',\n",
       " 'forfreemarket',\n",
       " 'classybrands',\n",
       " 'marakibrand',\n",
       " 'aradabrand2',\n",
       " 'marakisat2',\n",
       " 'belaclassic',\n",
       " 'AwasMart',\n",
       " 'qnashcom']"
      ]
     },
     "execution_count": 18,
     "metadata": {},
     "output_type": "execute_result"
    }
   ],
   "source": [
    "DATA_PATH = os.path.join('..', 'resources', 'data')\n",
    "tokenized_aligned_dir = os.path.join(DATA_PATH, 'tokenized_aligned')\n",
    "filename = os.path.join(tokenized_aligned_dir, 'tokenized_aligned_messages.conll')"
   ]
  },
  {
   "cell_type": "code",
   "execution_count": null,
   "metadata": {},
   "outputs": [],
   "source": [
    "\n",
    "TRAIN_DATA_PATH = \"resources/data/ner_train.conll\"\n",
    "VAL_DATA_PATH = \"resources/data/ner_val.conll\"\n",
    "\n",
    "# Load the train and validation data\n",
    "train_data = load_conll_data(TRAIN_DATA_PATH)\n",
    "val_data = load_conll_data(VAL_DATA_PATH)\n",
    "\n",
    "# Convert to Hugging Face Dataset\n",
    "train_dataset = Dataset.from_pandas(train_data)\n",
    "val_dataset = Dataset.from_pandas(val_data)\n",
    "\n",
    "\n",
    "# Map function and format datasets\n",
    "label_mapping = ClassLabel(names=[\"O\", \"B-Product\", \"I-Product\", \"B-LOC\", \"I-LOC\", \"B-PRICE\", \"I-PRICE\"])\n",
    "\n",
    "# Load Model\n",
    "model = AutoModelForTokenClassification.from_pretrained(MODEL_NAME, num_labels=len(label_mapping.names))\n",
    "\n",
    "\n",
    "\n",
    "train_dataset = train_dataset.map(lambda x: {\"labels\": [[label_mapping.str2int(tag) for tag in seq] for seq in x[\"labels\"]]})\n",
    "val_dataset = val_dataset.map(lambda x: {\"labels\": [[label_mapping.str2int(tag) for tag in seq] for seq in x[\"labels\"]]})\n",
    "\n",
    "train_dataset = train_dataset.map(tokenize_and_align_labels, batched=True)\n",
    "val_dataset = val_dataset.map(tokenize_and_align_labels, batched=True)\n",
    "\n",
    "\n"
   ]
  },
  {
   "cell_type": "code",
   "execution_count": null,
   "metadata": {},
   "outputs": [],
   "source": [
    "# Training Arguments\n",
    "training_args = TrainingArguments(\n",
    "    output_dir=\"./models/ner_finetuned\",\n",
    "    evaluation_strategy=\"epoch\",\n",
    "    learning_rate=5e-5,\n",
    "    per_device_train_batch_size=16,\n",
    "    per_device_eval_batch_size=16,\n",
    "    num_train_epochs=5,\n",
    "    weight_decay=0.01,\n",
    "    save_strategy=\"epoch\",\n",
    "    logging_dir=\"./logs\",\n",
    "    logging_steps=50,\n",
    "    load_best_model_at_end=True,\n",
    "    metric_for_best_model=\"f1\"\n",
    ")\n",
    "\n",
    "# Trainer\n",
    "trainer = Trainer(\n",
    "    model=model,\n",
    "    args=training_args,\n",
    "    train_dataset=train_dataset,\n",
    "    eval_dataset=val_dataset,\n",
    "    tokenizer=tokenizer,\n",
    "    compute_metrics=compute_metrics\n",
    ")\n",
    "\n",
    "# Train Model\n",
    "trainer.train()"
   ]
  },
  {
   "cell_type": "code",
   "execution_count": null,
   "metadata": {},
   "outputs": [],
   "source": [
    "# Rename labels column to \"labels\" if needed for huggingface Trainer compatibility\n",
    "tokenized_dataset = tokenized_dataset.rename_column(\"label\", \"labels\")\n"
   ]
  },
  {
   "cell_type": "code",
   "execution_count": null,
   "metadata": {},
   "outputs": [],
   "source": [
    "\n",
    "# Load the base model\n",
    "base_model = AutoModelForSequenceClassification.from_pretrained(\n",
    "    model_checkpoint, # string referencing the pre-trained model (e.g., \"distilbert-base-uncased\")\n",
    "    num_labels=2  # For positive/negative classification\n",
    ")\n",
    "\n",
    "# Define LoRA configuration\n",
    "lora_config = LoraConfig(\n",
    "    task_type=TaskType.SEQ_CLS,  # Sequence Classification\n",
    "    r=8,                         # LoRA rank\n",
    "    lora_alpha=32,               # adjusts how the LoRA updates get blended with existing weights.\n",
    "    lora_dropout=0.1,            # Dropout rate to help prevent overfitting within the LoRA modules.\n",
    "    bias=\"none\",                 # whether to include bias parameters in LoRA modules\n",
    "    target_modules=[\"q_lin\", \"k_lin\", \"v_lin\", \"out_lin\"]\n",
    ")\n",
    "\n",
    "# Convert the base model to a PEFT model using LoRA\n",
    "peft_model = get_peft_model(base_model, lora_config)\n",
    "#peft_model is now the model you’ll train, but only a small fraction of parameters (the LoRA parameters) will be trainable.\n",
    "\n",
    "# Print trainable parameters for confirmation\n",
    "trainable_params = 0\n",
    "all_params = 0\n",
    "for name, param in peft_model.named_parameters():\n",
    "    all_params += param.numel()\n",
    "    if param.requires_grad:\n",
    "        trainable_params += param.numel()\n",
    "\n",
    "print(f\"Trainable params: {trainable_params} | All params: {all_params} | Trainable%: {100 * trainable_params/all_params:.2f}%\")\n"
   ]
  },
  {
   "cell_type": "code",
   "execution_count": null,
   "metadata": {},
   "outputs": [],
   "source": [
    "\n",
    "# For demonstration, we'll make a small training set\n",
    "small_train_dataset = tokenized_dataset[\"train\"].shuffle(seed=42).select(range(2000))\n",
    "small_eval_dataset  = tokenized_dataset[\"test\"].shuffle(seed=42).select(range(1000))\n",
    "\n",
    "# Define training arguments\n",
    "training_args = TrainingArguments(\n",
    "    output_dir=\"./lora-distilbert-imdb\",\n",
    "    evaluation_strategy=\"epoch\",    #Evaluates the model after each epoch.\n",
    "    save_strategy=\"epoch\",          #Saves a checkpoint at the end of every epoch\n",
    "    logging_strategy=\"steps\",       # Logs training metrics every few steps\n",
    "    logging_steps=50,\n",
    "    per_device_train_batch_size=8,  #Batch size per device\n",
    "    per_device_eval_batch_size=8,\n",
    "    num_train_epochs=2,  #  Number of full passes through the training data.\n",
    "    weight_decay=0.01,   # A regularization hyperparameter to help prevent overfitting.\n",
    "    learning_rate=1e-4,  # Step size for the optimizer.\n",
    "    push_to_hub=False,   # Disable pushing to Hugging Face Hub\n",
    "    report_to=\"none\"     # Disable logging to W&B\n",
    "    )\n"
   ]
  },
  {
   "cell_type": "code",
   "execution_count": null,
   "metadata": {},
   "outputs": [],
   "source": [
    "\n",
    "# Define a simple accuracy metric\n",
    "\n",
    "metric_accuracy = evaluate.load(\"accuracy\")\n",
    "\n",
    "def compute_metrics(eval_pred):\n",
    "    logits, labels = eval_pred\n",
    "    predictions = torch.argmax(torch.tensor(logits), dim=-1)\n",
    "    return metric_accuracy.compute(predictions=predictions, references=labels)\n",
    "\n",
    "# Initialize the Trainer\n",
    "trainer = Trainer(\n",
    "    model=peft_model,\n",
    "    args=training_args,\n",
    "    train_dataset=small_train_dataset,\n",
    "    eval_dataset=small_eval_dataset,\n",
    "    tokenizer=tokenizer,\n",
    "    compute_metrics=compute_metrics\n",
    ")\n",
    "\n",
    "\n",
    "trainer.train()\n",
    "\n",
    "# Evaluate on the small evaluation set\n",
    "eval_results = trainer.evaluate()\n",
    "print(f\"Evaluation Results: {eval_results}\")\n"
   ]
  },
  {
   "cell_type": "code",
   "execution_count": null,
   "metadata": {},
   "outputs": [],
   "source": [
    "\n",
    "\n",
    "device = torch.device(\"cpu\")\n",
    "peft_model = peft_model.to(device)\n",
    "\n",
    "def predict_sentiment(review_text):\n",
    "    encoding = tokenizer(review_text, return_tensors=\"pt\", truncation=True, padding=True)\n",
    "    with torch.no_grad():\n",
    "        outputs = peft_model(**encoding)\n",
    "        logits = outputs.logits\n",
    "        predicted_label = torch.argmax(logits, dim=-1).item()\n",
    "    return \"Positive\" if predicted_label == 1 else \"Negative\"\n",
    "\n",
    "test_reviews = [\n",
    "    \"I absolutely loved this movie! The acting was great and the story kept me on the edge of my seat.\",\n",
    "    \"The plot was dull and I nearly fell asleep. Would not recommend.\"\n",
    "]\n",
    "\n",
    "for review in test_reviews:\n",
    "    print(f\"Review: {review}\\nPrediction: {predict_sentiment(review)}\\n\")\n",
    "\n"
   ]
  },
  {
   "cell_type": "markdown",
   "metadata": {},
   "source": [
    "# 4"
   ]
  },
  {
   "cell_type": "code",
   "execution_count": null,
   "metadata": {},
   "outputs": [],
   "source": [
    "from scripts.modeling.model_comparison import fine_tune_multiple_models\n",
    "\n",
    "models = [\n",
    "    \"xlm-roberta-base\",\n",
    "    \"Davlan/afroxlmr-large\",\n",
    "    \"distilbert-base-multilingual-cased\",\n",
    "    \"bert-base-multilingual-cased\",\n",
    "]\n",
    "dataset_dir = \"resources/data\"\n",
    "base_output_dir = \"resources/models/comparison\"\n",
    "\n",
    "params = {\n",
    "    \"learning_rate\": 5e-5,\n",
    "    \"epochs\": 5,\n",
    "    \"batch_size\": 8,\n",
    "}\n",
    "\n",
    "# Fine-tune and compare models\n",
    "results_df = fine_tune_multiple_models(models, dataset_dir, base_output_dir, params)\n",
    "print(results_df)\n"
   ]
  },
  {
   "cell_type": "code",
   "execution_count": null,
   "metadata": {},
   "outputs": [],
   "source": []
  },
  {
   "cell_type": "markdown",
   "metadata": {},
   "source": [
    "# 5"
   ]
  },
  {
   "cell_type": "code",
   "execution_count": null,
   "metadata": {},
   "outputs": [],
   "source": [
    "from scripts.modeling.model_interpretability import explain_predictions\n",
    "\n",
    "# Define the label mapping\n",
    "label_map = {\n",
    "    0: \"O\", 1: \"B-PRICE\", 2: \"I-PRICE\", 3: \"B-LOC\", \n",
    "    4: \"I-LOC\", 5: \"B-PRODUCT\", 6: \"I-PRODUCT\"\n",
    "}\n",
    "\n",
    "# Fine-tuned model and dataset path\n",
    "model_name = \"resources/models/comparison/xlm-roberta-base\"\n",
    "dataset_path = \"resources/data/validation_data.txt\"\n",
    "example_idx = 5  # Index of the example to analyze\n",
    "\n",
    "# Generate explanation\n",
    "explain_predictions(model_name, dataset_path, example_idx, label_map)\n"
   ]
  }
 ],
 "metadata": {
  "kernelspec": {
   "display_name": ".venv",
   "language": "python",
   "name": "python3"
  },
  "language_info": {
   "codemirror_mode": {
    "name": "ipython",
    "version": 3
   },
   "file_extension": ".py",
   "mimetype": "text/x-python",
   "name": "python",
   "nbconvert_exporter": "python",
   "pygments_lexer": "ipython3",
   "version": "3.12.1"
  }
 },
 "nbformat": 4,
 "nbformat_minor": 2
}

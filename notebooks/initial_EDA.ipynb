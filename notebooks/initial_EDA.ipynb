{
 "cells": [
  {
   "cell_type": "code",
   "execution_count": 5,
   "metadata": {},
   "outputs": [],
   "source": [
    "# from importib import reload\n",
    "%load_ext autoreload"
   ]
  },
  {
   "cell_type": "code",
   "execution_count": null,
   "metadata": {},
   "outputs": [],
   "source": [
    "import os\n",
    "import sys\n",
    "sys.path.append('..')\n",
    "import pandas as pd\n",
    "\n",
    "from scripts.data_utils.loaders import *\n",
    "from scripts.data_utils.cleaning import *\n",
    "\n",
    "%autoreload 2"
   ]
  },
  {
   "cell_type": "code",
   "execution_count": null,
   "metadata": {},
   "outputs": [],
   "source": [
    "\n",
    "# Example usage\n",
    "raw_text = \"የቤት ውስጥ እቃዎች በ1000 ብር! 🛒\"\n",
    "cleaned_text = clean_text(raw_text)\n",
    "print(cleaned_text)  # Output: የቤት ውስጥ እቃዎች በ1000 ብር"
   ]
  },
  {
   "cell_type": "code",
   "execution_count": null,
   "metadata": {},
   "outputs": [],
   "source": [
    "tokens = tokenize_text(cleaned_text)\n",
    "print(tokens)  # Output: ['የቤት', 'ውስጥ', 'እቃዎች', 'በ1000', 'ብር']"
   ]
  },
  {
   "cell_type": "code",
   "execution_count": null,
   "metadata": {},
   "outputs": [],
   "source": [
    "# Example usage\n",
    "image_text = extract_text_from_image('product_image.jpg')\n",
    "print(image_text)"
   ]
  },
  {
   "cell_type": "code",
   "execution_count": null,
   "metadata": {},
   "outputs": [],
   "source": [
    "data = {\n",
    "    'message_id': [1, 2],\n",
    "    'text': ['የቤት ውስጥ እቃዎች', 'በ1000 ብር'],\n",
    "    'image_text': ['', 'የቤት እቃዎች'],\n",
    "    'timestamp': ['2023-10-01 12:00', '2023-10-01 12:05'],\n",
    "    'channel': ['Shageronlinestore', 'Shageronlinestore']\n",
    "}"
   ]
  },
  {
   "cell_type": "code",
   "execution_count": null,
   "metadata": {},
   "outputs": [],
   "source": [
    "save_csv(data, \"preprocessed_data.csv\")"
   ]
  }
 ],
 "metadata": {
  "kernelspec": {
   "display_name": ".venv",
   "language": "python",
   "name": "python3"
  },
  "language_info": {
   "codemirror_mode": {
    "name": "ipython",
    "version": 3
   },
   "file_extension": ".py",
   "mimetype": "text/x-python",
   "name": "python",
   "nbconvert_exporter": "python",
   "pygments_lexer": "ipython3",
   "version": "3.12.1"
  }
 },
 "nbformat": 4,
 "nbformat_minor": 2
}
